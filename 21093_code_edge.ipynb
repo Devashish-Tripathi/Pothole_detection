{
 "cells": [
  {
   "cell_type": "markdown",
   "metadata": {},
   "source": [
    "Imports are here"
   ]
  },
  {
   "cell_type": "code",
   "execution_count": 2,
   "metadata": {},
   "outputs": [],
   "source": [
    "import cv2\n",
    "import numpy as np\n",
    "from skimage import feature"
   ]
  },
  {
   "cell_type": "markdown",
   "metadata": {},
   "source": [
    "Image Input"
   ]
  },
  {
   "cell_type": "code",
   "execution_count": 4,
   "metadata": {},
   "outputs": [],
   "source": [
    "img=cv2.imread('many_potholes.jpeg')\n",
    "cv2.imshow(\"CV2 Image\",img)  \n",
    "cv2.waitKey(0)   \n",
    "pass"
   ]
  },
  {
   "cell_type": "markdown",
   "metadata": {},
   "source": [
    "Image converted to Grayscale"
   ]
  },
  {
   "cell_type": "code",
   "execution_count": 5,
   "metadata": {},
   "outputs": [],
   "source": [
    "gray_img=cv2.cvtColor(img,cv2.COLOR_BGR2GRAY)\n",
    "# cv2.imshow(\"Gray Image\",gray_img)  \n",
    "# cv2.waitKey(0)   \n",
    "# pass"
   ]
  },
  {
   "cell_type": "markdown",
   "metadata": {},
   "source": [
    "Gaussian Blurring applied to Grayscale image"
   ]
  },
  {
   "cell_type": "code",
   "execution_count": 6,
   "metadata": {},
   "outputs": [],
   "source": [
    "blur_img=cv2.GaussianBlur(gray_img,(1,1),0)\n",
    "# cv2.imshow(\"Blur Image\",blur_img)  \n",
    "# cv2.waitKey(0)   \n",
    "# pass"
   ]
  },
  {
   "cell_type": "markdown",
   "metadata": {},
   "source": [
    "Canny edge detection applied to Blurred Image"
   ]
  },
  {
   "cell_type": "code",
   "execution_count": 7,
   "metadata": {},
   "outputs": [],
   "source": [
    "canny_edge=cv2.Canny(blur_img,threshold1=300,threshold2=400,L2gradient=True)\n",
    "cv2.imshow(\"Canny Edges\",canny_edge)  \n",
    "cv2.waitKey(0)   \n",
    "pass"
   ]
  },
  {
   "cell_type": "markdown",
   "metadata": {},
   "source": [
    "The edge detected image is dilated"
   ]
  },
  {
   "cell_type": "code",
   "execution_count": 8,
   "metadata": {},
   "outputs": [],
   "source": [
    "dil_kernel=cv2.getStructuringElement(cv2.MORPH_RECT, (3, 3))\n",
    "dilated_edges=cv2.dilate(canny_edge, dil_kernel, iterations=5)\n",
    "dilated_image=img.copy()\n",
    "dilated_image[dilated_edges>0]=(0,255,0)\n",
    "cv2.imshow(\"Dilated Edges\", dilated_image)\n",
    "cv2.waitKey(0)\n",
    "pass"
   ]
  },
  {
   "cell_type": "markdown",
   "metadata": {},
   "source": [
    "Contours are identified and applied."
   ]
  },
  {
   "cell_type": "code",
   "execution_count": 10,
   "metadata": {},
   "outputs": [],
   "source": [
    "# contours=cv2.findContours(combined_mask, cv2.RETR_EXTERNAL, cv2.CHAIN_APPROX_SIMPLE)\n",
    "contours=cv2.findContours(dilated_edges, cv2.RETR_EXTERNAL, cv2.CHAIN_APPROX_SIMPLE)\n",
    "result_img=img.copy()\n",
    "for contour in contours[0]:\n",
    "    cv2.drawContours(result_img,[contour],0,(0,255,0),3)\n",
    "cv2.imshow(\"Pothole Detection\", result_img)\n",
    "cv2.waitKey(0)\n",
    "cv2.imwrite(\"img_edge.jpg\", result_img)\n",
    "pass    "
   ]
  }
 ],
 "metadata": {
  "kernelspec": {
   "display_name": "Python 3",
   "language": "python",
   "name": "python3"
  },
  "language_info": {
   "codemirror_mode": {
    "name": "ipython",
    "version": 3
   },
   "file_extension": ".py",
   "mimetype": "text/x-python",
   "name": "python",
   "nbconvert_exporter": "python",
   "pygments_lexer": "ipython3",
   "version": "3.11.6"
  }
 },
 "nbformat": 4,
 "nbformat_minor": 2
}
